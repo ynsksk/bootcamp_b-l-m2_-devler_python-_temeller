{
 "cells": [
  {
   "cell_type": "code",
   "execution_count": 60,
   "metadata": {},
   "outputs": [],
   "source": [
    "temel_para=1000 \n",
    "günlük_ortalama_faiz=12/100\n",
    "bir_hafta=7\n",
    "net_kazanç=1000*(12/100*7)"
   ]
  },
  {
   "cell_type": "code",
   "execution_count": 63,
   "metadata": {},
   "outputs": [
    {
     "name": "stdout",
     "output_type": "stream",
     "text": [
      "1000\n",
      "0.12\n",
      "7\n",
      "Bir Günde Kazanılan Para :  120.0\n",
      "Bir Haftada Kazanılan Para :  840.0\n"
     ]
    }
   ],
   "source": [
    "print(int(temel_para))\n",
    "print(float(günlük_ortalama_faiz))\n",
    "print(int(bir_hafta))\n",
    "print(\"Bir Günde Kazanılan Para : \",1000*(12/100))#bir günlük kazancını pirint ile yazma şekli\n",
    "print(\"Bir Haftada Kazanılan Para : \",net_kazanç)"
   ]
  },
  {
   "cell_type": "code",
   "execution_count": 64,
   "metadata": {},
   "outputs": [
    {
     "name": "stdout",
     "output_type": "stream",
     "text": [
      "Hafta başında '1000' dolarlık bitcoin aldığımızda günde ortalama ''%12' kazançla\n",
      "      bir hafta sonunda '1210.68' dolar kazanırdık\n"
     ]
    }
   ],
   "source": [
    "print(\"\"\"Hafta başında '1000' dolarlık bitcoin aldığımızda günde ortalama ''%12' kazançla\n",
    "      bir hafta sonunda '1210.68' dolar kazanırdık\"\"\")"
   ]
  },
  {
   "cell_type": "code",
   "execution_count": null,
   "metadata": {},
   "outputs": [],
   "source": []
  }
 ],
 "metadata": {
  "kernelspec": {
   "display_name": "Python 3",
   "language": "python",
   "name": "python3"
  },
  "language_info": {
   "codemirror_mode": {
    "name": "ipython",
    "version": 3
   },
   "file_extension": ".py",
   "mimetype": "text/x-python",
   "name": "python",
   "nbconvert_exporter": "python",
   "pygments_lexer": "ipython3",
   "version": "3.7.2"
  }
 },
 "nbformat": 4,
 "nbformat_minor": 2
}
